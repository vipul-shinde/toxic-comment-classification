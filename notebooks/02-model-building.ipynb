{
 "cells": [
  {
   "cell_type": "code",
   "execution_count": null,
   "metadata": {},
   "outputs": [],
   "source": [
    "# Importing the Libraries\n",
    "import pandas as pd\n",
    "import numpy as np\n",
    "import matplotlib.pyplot as plt\n",
    "import seaborn as sns\n",
    "import re, string\n",
    "import swifter\n",
    "from nltk.corpus import stopwords\n",
    "stop_words = set(stopwords.words(\"english\"))\n",
    "from nltk.tokenize import word_tokenize\n",
    "from nltk.stem import WordNetLemmatizer\n",
    "from sklearn.pipeline import Pipeline\n",
    "from skmultilearn.problem_transform import BinaryRelevance\n",
    "from sklearn.feature_extraction.text import TfidfVectorizer\n",
    "from sklearn.model_selection import train_test_split\n",
    "from sklearn.metrics import accuracy_score, roc_auc_score, f1_score\n",
    "from sklearn.linear_model import LogisticRegression\n",
    "from sklearn.ensemble import RandomForestClassifier\n",
    "from skmultilearn.adapt import MLkNN\n",
    "import xgboost as xgb\n",
    "import warnings\n",
    "warnings.filterwarnings(\"ignore\")\n",
    "plt.style.use(\"ggplot\")"
   ]
  },
  {
   "cell_type": "code",
   "execution_count": null,
   "metadata": {},
   "outputs": [],
   "source": [
    "# Importing the training dataset\n",
    "train_df = pd.read_csv(\"D:/Projects/toxic-comment-classification/data/raw-data/train.csv\")\n",
    "train_df.head()"
   ]
  },
  {
   "cell_type": "code",
   "execution_count": null,
   "metadata": {},
   "outputs": [],
   "source": [
    "# Importing the test data\n",
    "test_data = pd.read_csv(\"D:/Projects/toxic-comment-classification/data/raw-data/test.csv\")\n",
    "test_labels = pd.read_csv(\"D:/Projects/toxic-comment-classification/data/raw-data/test_labels.csv\")"
   ]
  },
  {
   "cell_type": "code",
   "execution_count": null,
   "metadata": {},
   "outputs": [],
   "source": [
    "# Merging the two datasets above for complete test data\n",
    "test_df = pd.merge(test_data, test_labels, on=\"id\")\n",
    "test_df.head()"
   ]
  },
  {
   "cell_type": "code",
   "execution_count": null,
   "metadata": {},
   "outputs": [],
   "source": [
    "# Filtering out the samples having actual target labels\n",
    "new_test_df = test_df[(test_df['toxic']!=-1) & (test_df['severe_toxic']!=-1) & (test_df['obscene']!=-1) & \n",
    "             (test_df['threat']!=-1) & (test_df['insult']!=-1) & (test_df['identity_hate']!=-1)]\n",
    "new_test_df.reset_index(drop=True, inplace=True)\n",
    "new_test_df.head()"
   ]
  },
  {
   "cell_type": "code",
   "execution_count": null,
   "metadata": {},
   "outputs": [],
   "source": [
    "# Creating a function to clean the training dataset\n",
    "def clean_text(text):\n",
    "    \"\"\"This function will take text as input and return a cleaned text \n",
    "        by removing html char, punctuations, non-letters, newline and converting it \n",
    "        to lower case.\n",
    "    \"\"\"\n",
    "    # Converting to lower case letters\n",
    "    text = text.lower()\n",
    "    # Removing the contraction of few words\n",
    "    text = re.sub(r\"what's\", \"what is \", text)\n",
    "    text = re.sub(r\"\\'s\", \" \", text)\n",
    "    text = re.sub(r\"\\'ve\", \" have \", text)\n",
    "    text = re.sub(r\"can't\", \"can not \", text)\n",
    "    text = re.sub(r\"n't\", \" not \", text)\n",
    "    text = re.sub(r\"i'm\", \"i am \", text)\n",
    "    text = re.sub(r\"\\'re\", \" are \", text)\n",
    "    text = re.sub(r\"\\'d\", \" would \", text)\n",
    "    text = re.sub(r\"\\'ll\", \" will \", text)\n",
    "    text = re.sub(r\"\\'scuse\", \" excuse \", text)\n",
    "    # Replacing the HTMl characters with \" \"\n",
    "    text = re.sub(\"<.*?>\", \" \", text)\n",
    "    # Removing the punctuations\n",
    "    text = text.translate(str.maketrans(\" \", \" \", string.punctuation))\n",
    "    # Removing non-letters\n",
    "    text = re.sub(\"[^a-zA-Z]\", \" \", text)\n",
    "    # Replacing newline with space\n",
    "    text = re.sub(\"\\n\", \" \", text)\n",
    "    # Split on space and rejoin to remove extra spaces\n",
    "    text = \" \".join(text.split())\n",
    "    \n",
    "    return text"
   ]
  },
  {
   "cell_type": "code",
   "execution_count": null,
   "metadata": {},
   "outputs": [],
   "source": [
    "def word_lemmatizer(text):\n",
    "    \"\"\"This function will help lemmatize words in a text\"\"\"\n",
    "    \n",
    "    lemmatizer = WordNetLemmatizer()\n",
    "    # Tokenize the sentences to words\n",
    "    text = word_tokenize(text)\n",
    "    # Removing the stop words\n",
    "    text = [lemmatizer.lemmatize(word) for word in text]\n",
    "    # Joining the cleaned list\n",
    "    text = \" \".join(text)\n",
    "    \n",
    "    return text"
   ]
  },
  {
   "cell_type": "code",
   "execution_count": null,
   "metadata": {},
   "outputs": [],
   "source": [
    "# Cleaning and preprocessing the train data\n",
    "train_df[\"comment_text\"] = train_df[\"comment_text\"].swifter.apply(clean_text)\n",
    "train_df[\"comment_text\"] = train_df[\"comment_text\"].swifter.apply(word_lemmatizer)\n",
    "\n",
    "# Cleaning and preprocessing the test data\n",
    "new_test_df[\"comment_text\"] = new_test_df[\"comment_text\"].swifter.apply(clean_text)\n",
    "new_test_df[\"comment_text\"] = new_test_df[\"comment_text\"].swifter.apply(word_lemmatizer)"
   ]
  },
  {
   "cell_type": "code",
   "execution_count": null,
   "metadata": {},
   "outputs": [],
   "source": [
    " # Seperating our input and target variable columns\n",
    "X = train_df[\"comment_text\"]\n",
    "y = train_df[[\"toxic\", \"severe_toxic\", \"obscene\", \"threat\", \"insult\", \"identity_hate\"]]"
   ]
  },
  {
   "cell_type": "code",
   "execution_count": null,
   "metadata": {},
   "outputs": [],
   "source": [
    "# Performing the train-val split to create training and validation datasets\n",
    "X_train, X_val, y_train, y_val = train_test_split(X, y, test_size=0.33, random_state=42)\n",
    "print(X_train.shape, X_val.shape, y_train.shape, y_val.shape)"
   ]
  },
  {
   "cell_type": "code",
   "execution_count": null,
   "metadata": {},
   "outputs": [],
   "source": [
    "# Creating a list of all the text comments from our cleaned dataset\n",
    "train_corpus = list(train_df.comment_text.values)\n",
    "print(len(train_corpus))"
   ]
  },
  {
   "cell_type": "code",
   "execution_count": null,
   "metadata": {},
   "outputs": [],
   "source": [
    "# Creating a TFIDF vectorizer on the whole training dataset\n",
    "vectorizer = TfidfVectorizer(max_features=10000, ngram_range=(1, 1), sublinear_tf=True, strip_accents=\"unicode\", \n",
    "                             analyzer=\"word\",token_pattern=r\"\\w{1,}\", stop_words=stop_words)\n",
    "\n",
    "vectorizer.fit(train_corpus)"
   ]
  },
  {
   "cell_type": "code",
   "execution_count": null,
   "metadata": {},
   "outputs": [],
   "source": [
    "# Transforming the input and val independent data\n",
    "X_train = vectorizer.transform(X_train)\n",
    "X_val = vectorizer.transform(X_val)"
   ]
  },
  {
   "cell_type": "code",
   "execution_count": null,
   "metadata": {},
   "outputs": [],
   "source": [
    "X_train.toarray()"
   ]
  },
  {
   "cell_type": "code",
   "execution_count": null,
   "metadata": {},
   "outputs": [],
   "source": [
    "lr = BinaryRelevance(LogisticRegression(C=2, class_weight = 'balanced'))\n",
    "lr.fit(X_train, y_train)"
   ]
  },
  {
   "cell_type": "code",
   "execution_count": null,
   "metadata": {},
   "outputs": [],
   "source": [
    "y_pred = lr.predict(X_val)"
   ]
  },
  {
   "cell_type": "code",
   "execution_count": null,
   "metadata": {},
   "outputs": [],
   "source": [
    "# Computing the f-1 score for our model.\n",
    "f1_score_knn = f1_score(y_train, y_pred, average = \"weighted\")\n",
    "f1_score_knn"
   ]
  }
 ],
 "metadata": {
  "interpreter": {
   "hash": "b3ba2566441a7c06988d0923437866b63cedc61552a5af99d1f4fb67d367b25f"
  },
  "kernelspec": {
   "display_name": "Python 3.8.8 64-bit ('base': conda)",
   "language": "python",
   "name": "python3"
  },
  "language_info": {
   "codemirror_mode": {
    "name": "ipython",
    "version": 3
   },
   "file_extension": ".py",
   "mimetype": "text/x-python",
   "name": "python",
   "nbconvert_exporter": "python",
   "pygments_lexer": "ipython3",
   "version": "3.8.8"
  },
  "orig_nbformat": 4
 },
 "nbformat": 4,
 "nbformat_minor": 2
}
