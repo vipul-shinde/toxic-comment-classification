{
 "cells": [
  {
   "cell_type": "code",
   "execution_count": 1,
   "id": "5ec75ed2",
   "metadata": {
    "execution": {
     "iopub.execute_input": "2022-02-03T04:14:54.763374Z",
     "iopub.status.busy": "2022-02-03T04:14:54.761659Z",
     "iopub.status.idle": "2022-02-03T04:15:05.432279Z",
     "shell.execute_reply": "2022-02-03T04:15:05.431401Z"
    },
    "papermill": {
     "duration": 10.688365,
     "end_time": "2022-02-03T04:15:05.432443",
     "exception": false,
     "start_time": "2022-02-03T04:14:54.744078",
     "status": "completed"
    },
    "tags": []
   },
   "outputs": [
    {
     "name": "stdout",
     "output_type": "stream",
     "text": [
      "\u001b[33mWARNING: Running pip as the 'root' user can result in broken permissions and conflicting behaviour with the system package manager. It is recommended to use a virtual environment instead: https://pip.pypa.io/warnings/venv\u001b[0m\r\n",
      "Note: you may need to restart the kernel to use updated packages.\n"
     ]
    }
   ],
   "source": [
    "pip install swifter --quiet"
   ]
  },
  {
   "cell_type": "code",
   "execution_count": 2,
   "id": "76ee8619",
   "metadata": {
    "execution": {
     "iopub.execute_input": "2022-02-03T04:15:05.463294Z",
     "iopub.status.busy": "2022-02-03T04:15:05.462662Z",
     "iopub.status.idle": "2022-02-03T04:15:08.095968Z",
     "shell.execute_reply": "2022-02-03T04:15:08.094638Z"
    },
    "papermill": {
     "duration": 2.648895,
     "end_time": "2022-02-03T04:15:08.096162",
     "exception": false,
     "start_time": "2022-02-03T04:15:05.447267",
     "status": "completed"
    },
    "tags": []
   },
   "outputs": [],
   "source": [
    "# Importing the Libraries\n",
    "import pandas as pd\n",
    "import numpy as np\n",
    "import re, string\n",
    "import swifter\n",
    "from nltk.corpus import stopwords\n",
    "stop_words = set(stopwords.words(\"english\"))\n",
    "from nltk.tokenize import word_tokenize\n",
    "from nltk.stem import WordNetLemmatizer\n",
    "from sklearn.pipeline import FeatureUnion, Pipeline\n",
    "from sklearn.multiclass import OneVsRestClassifier\n",
    "from sklearn.feature_extraction.text import TfidfVectorizer\n",
    "from sklearn.model_selection import train_test_split\n",
    "from sklearn.metrics import accuracy_score, f1_score, roc_auc_score\n",
    "from sklearn.linear_model import LogisticRegression\n",
    "from scipy.sparse import hstack\n",
    "import joblib\n",
    "import warnings\n",
    "warnings.filterwarnings(\"ignore\")"
   ]
  },
  {
   "cell_type": "code",
   "execution_count": 3,
   "id": "a4c5d710",
   "metadata": {
    "execution": {
     "iopub.execute_input": "2022-02-03T04:15:08.133805Z",
     "iopub.status.busy": "2022-02-03T04:15:08.133250Z",
     "iopub.status.idle": "2022-02-03T04:15:10.202936Z",
     "shell.execute_reply": "2022-02-03T04:15:10.201979Z",
     "shell.execute_reply.started": "2022-02-03T04:13:39.274391Z"
    },
    "papermill": {
     "duration": 2.09064,
     "end_time": "2022-02-03T04:15:10.203086",
     "exception": false,
     "start_time": "2022-02-03T04:15:08.112446",
     "status": "completed"
    },
    "tags": []
   },
   "outputs": [
    {
     "data": {
      "text/html": [
       "<div>\n",
       "<style scoped>\n",
       "    .dataframe tbody tr th:only-of-type {\n",
       "        vertical-align: middle;\n",
       "    }\n",
       "\n",
       "    .dataframe tbody tr th {\n",
       "        vertical-align: top;\n",
       "    }\n",
       "\n",
       "    .dataframe thead th {\n",
       "        text-align: right;\n",
       "    }\n",
       "</style>\n",
       "<table border=\"1\" class=\"dataframe\">\n",
       "  <thead>\n",
       "    <tr style=\"text-align: right;\">\n",
       "      <th></th>\n",
       "      <th>id</th>\n",
       "      <th>comment_text</th>\n",
       "      <th>toxic</th>\n",
       "      <th>severe_toxic</th>\n",
       "      <th>obscene</th>\n",
       "      <th>threat</th>\n",
       "      <th>insult</th>\n",
       "      <th>identity_hate</th>\n",
       "    </tr>\n",
       "  </thead>\n",
       "  <tbody>\n",
       "    <tr>\n",
       "      <th>0</th>\n",
       "      <td>0000997932d777bf</td>\n",
       "      <td>Explanation\\nWhy the edits made under my usern...</td>\n",
       "      <td>0</td>\n",
       "      <td>0</td>\n",
       "      <td>0</td>\n",
       "      <td>0</td>\n",
       "      <td>0</td>\n",
       "      <td>0</td>\n",
       "    </tr>\n",
       "    <tr>\n",
       "      <th>1</th>\n",
       "      <td>000103f0d9cfb60f</td>\n",
       "      <td>D'aww! He matches this background colour I'm s...</td>\n",
       "      <td>0</td>\n",
       "      <td>0</td>\n",
       "      <td>0</td>\n",
       "      <td>0</td>\n",
       "      <td>0</td>\n",
       "      <td>0</td>\n",
       "    </tr>\n",
       "    <tr>\n",
       "      <th>2</th>\n",
       "      <td>000113f07ec002fd</td>\n",
       "      <td>Hey man, I'm really not trying to edit war. It...</td>\n",
       "      <td>0</td>\n",
       "      <td>0</td>\n",
       "      <td>0</td>\n",
       "      <td>0</td>\n",
       "      <td>0</td>\n",
       "      <td>0</td>\n",
       "    </tr>\n",
       "    <tr>\n",
       "      <th>3</th>\n",
       "      <td>0001b41b1c6bb37e</td>\n",
       "      <td>\"\\nMore\\nI can't make any real suggestions on ...</td>\n",
       "      <td>0</td>\n",
       "      <td>0</td>\n",
       "      <td>0</td>\n",
       "      <td>0</td>\n",
       "      <td>0</td>\n",
       "      <td>0</td>\n",
       "    </tr>\n",
       "    <tr>\n",
       "      <th>4</th>\n",
       "      <td>0001d958c54c6e35</td>\n",
       "      <td>You, sir, are my hero. Any chance you remember...</td>\n",
       "      <td>0</td>\n",
       "      <td>0</td>\n",
       "      <td>0</td>\n",
       "      <td>0</td>\n",
       "      <td>0</td>\n",
       "      <td>0</td>\n",
       "    </tr>\n",
       "  </tbody>\n",
       "</table>\n",
       "</div>"
      ],
      "text/plain": [
       "                 id                                       comment_text  toxic  \\\n",
       "0  0000997932d777bf  Explanation\\nWhy the edits made under my usern...      0   \n",
       "1  000103f0d9cfb60f  D'aww! He matches this background colour I'm s...      0   \n",
       "2  000113f07ec002fd  Hey man, I'm really not trying to edit war. It...      0   \n",
       "3  0001b41b1c6bb37e  \"\\nMore\\nI can't make any real suggestions on ...      0   \n",
       "4  0001d958c54c6e35  You, sir, are my hero. Any chance you remember...      0   \n",
       "\n",
       "   severe_toxic  obscene  threat  insult  identity_hate  \n",
       "0             0        0       0       0              0  \n",
       "1             0        0       0       0              0  \n",
       "2             0        0       0       0              0  \n",
       "3             0        0       0       0              0  \n",
       "4             0        0       0       0              0  "
      ]
     },
     "execution_count": 3,
     "metadata": {},
     "output_type": "execute_result"
    }
   ],
   "source": [
    "# Importing the training dataset\n",
    "train_df = pd.read_csv(\"../input/toxic-data/train.csv\")\n",
    "train_df.head()"
   ]
  },
  {
   "cell_type": "code",
   "execution_count": 4,
   "id": "3a2ea2a6",
   "metadata": {
    "execution": {
     "iopub.execute_input": "2022-02-03T04:15:10.235316Z",
     "iopub.status.busy": "2022-02-03T04:15:10.234637Z",
     "iopub.status.idle": "2022-02-03T04:15:12.007278Z",
     "shell.execute_reply": "2022-02-03T04:15:12.007744Z",
     "shell.execute_reply.started": "2022-02-03T04:13:39.275309Z"
    },
    "papermill": {
     "duration": 1.791119,
     "end_time": "2022-02-03T04:15:12.007956",
     "exception": false,
     "start_time": "2022-02-03T04:15:10.216837",
     "status": "completed"
    },
    "tags": []
   },
   "outputs": [],
   "source": [
    "# Importing the test data\n",
    "test_data = pd.read_csv(\"../input/toxic-data/test.csv\")\n",
    "test_labels = pd.read_csv(\"../input/toxic-data/test_labels.csv\")"
   ]
  },
  {
   "cell_type": "code",
   "execution_count": 5,
   "id": "3eea0fff",
   "metadata": {
    "execution": {
     "iopub.execute_input": "2022-02-03T04:15:12.043775Z",
     "iopub.status.busy": "2022-02-03T04:15:12.038201Z",
     "iopub.status.idle": "2022-02-03T04:15:12.198123Z",
     "shell.execute_reply": "2022-02-03T04:15:12.198592Z",
     "shell.execute_reply.started": "2022-02-03T04:13:39.276335Z"
    },
    "papermill": {
     "duration": 0.176989,
     "end_time": "2022-02-03T04:15:12.198749",
     "exception": false,
     "start_time": "2022-02-03T04:15:12.021760",
     "status": "completed"
    },
    "tags": []
   },
   "outputs": [
    {
     "data": {
      "text/html": [
       "<div>\n",
       "<style scoped>\n",
       "    .dataframe tbody tr th:only-of-type {\n",
       "        vertical-align: middle;\n",
       "    }\n",
       "\n",
       "    .dataframe tbody tr th {\n",
       "        vertical-align: top;\n",
       "    }\n",
       "\n",
       "    .dataframe thead th {\n",
       "        text-align: right;\n",
       "    }\n",
       "</style>\n",
       "<table border=\"1\" class=\"dataframe\">\n",
       "  <thead>\n",
       "    <tr style=\"text-align: right;\">\n",
       "      <th></th>\n",
       "      <th>id</th>\n",
       "      <th>comment_text</th>\n",
       "      <th>toxic</th>\n",
       "      <th>severe_toxic</th>\n",
       "      <th>obscene</th>\n",
       "      <th>threat</th>\n",
       "      <th>insult</th>\n",
       "      <th>identity_hate</th>\n",
       "    </tr>\n",
       "  </thead>\n",
       "  <tbody>\n",
       "    <tr>\n",
       "      <th>0</th>\n",
       "      <td>00001cee341fdb12</td>\n",
       "      <td>Yo bitch Ja Rule is more succesful then you'll...</td>\n",
       "      <td>-1</td>\n",
       "      <td>-1</td>\n",
       "      <td>-1</td>\n",
       "      <td>-1</td>\n",
       "      <td>-1</td>\n",
       "      <td>-1</td>\n",
       "    </tr>\n",
       "    <tr>\n",
       "      <th>1</th>\n",
       "      <td>0000247867823ef7</td>\n",
       "      <td>== From RfC == \\n\\n The title is fine as it is...</td>\n",
       "      <td>-1</td>\n",
       "      <td>-1</td>\n",
       "      <td>-1</td>\n",
       "      <td>-1</td>\n",
       "      <td>-1</td>\n",
       "      <td>-1</td>\n",
       "    </tr>\n",
       "    <tr>\n",
       "      <th>2</th>\n",
       "      <td>00013b17ad220c46</td>\n",
       "      <td>\" \\n\\n == Sources == \\n\\n * Zawe Ashton on Lap...</td>\n",
       "      <td>-1</td>\n",
       "      <td>-1</td>\n",
       "      <td>-1</td>\n",
       "      <td>-1</td>\n",
       "      <td>-1</td>\n",
       "      <td>-1</td>\n",
       "    </tr>\n",
       "    <tr>\n",
       "      <th>3</th>\n",
       "      <td>00017563c3f7919a</td>\n",
       "      <td>:If you have a look back at the source, the in...</td>\n",
       "      <td>-1</td>\n",
       "      <td>-1</td>\n",
       "      <td>-1</td>\n",
       "      <td>-1</td>\n",
       "      <td>-1</td>\n",
       "      <td>-1</td>\n",
       "    </tr>\n",
       "    <tr>\n",
       "      <th>4</th>\n",
       "      <td>00017695ad8997eb</td>\n",
       "      <td>I don't anonymously edit articles at all.</td>\n",
       "      <td>-1</td>\n",
       "      <td>-1</td>\n",
       "      <td>-1</td>\n",
       "      <td>-1</td>\n",
       "      <td>-1</td>\n",
       "      <td>-1</td>\n",
       "    </tr>\n",
       "  </tbody>\n",
       "</table>\n",
       "</div>"
      ],
      "text/plain": [
       "                 id                                       comment_text  toxic  \\\n",
       "0  00001cee341fdb12  Yo bitch Ja Rule is more succesful then you'll...     -1   \n",
       "1  0000247867823ef7  == From RfC == \\n\\n The title is fine as it is...     -1   \n",
       "2  00013b17ad220c46  \" \\n\\n == Sources == \\n\\n * Zawe Ashton on Lap...     -1   \n",
       "3  00017563c3f7919a  :If you have a look back at the source, the in...     -1   \n",
       "4  00017695ad8997eb          I don't anonymously edit articles at all.     -1   \n",
       "\n",
       "   severe_toxic  obscene  threat  insult  identity_hate  \n",
       "0            -1       -1      -1      -1             -1  \n",
       "1            -1       -1      -1      -1             -1  \n",
       "2            -1       -1      -1      -1             -1  \n",
       "3            -1       -1      -1      -1             -1  \n",
       "4            -1       -1      -1      -1             -1  "
      ]
     },
     "execution_count": 5,
     "metadata": {},
     "output_type": "execute_result"
    }
   ],
   "source": [
    "# Merging the two datasets above for complete test data\n",
    "test_df = pd.merge(test_data, test_labels, on=\"id\")\n",
    "test_df.head()"
   ]
  },
  {
   "cell_type": "code",
   "execution_count": 6,
   "id": "4329a33b",
   "metadata": {
    "execution": {
     "iopub.execute_input": "2022-02-03T04:15:12.233580Z",
     "iopub.status.busy": "2022-02-03T04:15:12.232971Z",
     "iopub.status.idle": "2022-02-03T04:15:12.252234Z",
     "shell.execute_reply": "2022-02-03T04:15:12.251640Z",
     "shell.execute_reply.started": "2022-02-03T04:13:39.277669Z"
    },
    "papermill": {
     "duration": 0.039181,
     "end_time": "2022-02-03T04:15:12.252372",
     "exception": false,
     "start_time": "2022-02-03T04:15:12.213191",
     "status": "completed"
    },
    "tags": []
   },
   "outputs": [
    {
     "data": {
      "text/html": [
       "<div>\n",
       "<style scoped>\n",
       "    .dataframe tbody tr th:only-of-type {\n",
       "        vertical-align: middle;\n",
       "    }\n",
       "\n",
       "    .dataframe tbody tr th {\n",
       "        vertical-align: top;\n",
       "    }\n",
       "\n",
       "    .dataframe thead th {\n",
       "        text-align: right;\n",
       "    }\n",
       "</style>\n",
       "<table border=\"1\" class=\"dataframe\">\n",
       "  <thead>\n",
       "    <tr style=\"text-align: right;\">\n",
       "      <th></th>\n",
       "      <th>id</th>\n",
       "      <th>comment_text</th>\n",
       "      <th>toxic</th>\n",
       "      <th>severe_toxic</th>\n",
       "      <th>obscene</th>\n",
       "      <th>threat</th>\n",
       "      <th>insult</th>\n",
       "      <th>identity_hate</th>\n",
       "    </tr>\n",
       "  </thead>\n",
       "  <tbody>\n",
       "    <tr>\n",
       "      <th>0</th>\n",
       "      <td>0001ea8717f6de06</td>\n",
       "      <td>Thank you for understanding. I think very high...</td>\n",
       "      <td>0</td>\n",
       "      <td>0</td>\n",
       "      <td>0</td>\n",
       "      <td>0</td>\n",
       "      <td>0</td>\n",
       "      <td>0</td>\n",
       "    </tr>\n",
       "    <tr>\n",
       "      <th>1</th>\n",
       "      <td>000247e83dcc1211</td>\n",
       "      <td>:Dear god this site is horrible.</td>\n",
       "      <td>0</td>\n",
       "      <td>0</td>\n",
       "      <td>0</td>\n",
       "      <td>0</td>\n",
       "      <td>0</td>\n",
       "      <td>0</td>\n",
       "    </tr>\n",
       "    <tr>\n",
       "      <th>2</th>\n",
       "      <td>0002f87b16116a7f</td>\n",
       "      <td>\"::: Somebody will invariably try to add Relig...</td>\n",
       "      <td>0</td>\n",
       "      <td>0</td>\n",
       "      <td>0</td>\n",
       "      <td>0</td>\n",
       "      <td>0</td>\n",
       "      <td>0</td>\n",
       "    </tr>\n",
       "    <tr>\n",
       "      <th>3</th>\n",
       "      <td>0003e1cccfd5a40a</td>\n",
       "      <td>\" \\n\\n It says it right there that it IS a typ...</td>\n",
       "      <td>0</td>\n",
       "      <td>0</td>\n",
       "      <td>0</td>\n",
       "      <td>0</td>\n",
       "      <td>0</td>\n",
       "      <td>0</td>\n",
       "    </tr>\n",
       "    <tr>\n",
       "      <th>4</th>\n",
       "      <td>00059ace3e3e9a53</td>\n",
       "      <td>\" \\n\\n == Before adding a new product to the l...</td>\n",
       "      <td>0</td>\n",
       "      <td>0</td>\n",
       "      <td>0</td>\n",
       "      <td>0</td>\n",
       "      <td>0</td>\n",
       "      <td>0</td>\n",
       "    </tr>\n",
       "  </tbody>\n",
       "</table>\n",
       "</div>"
      ],
      "text/plain": [
       "                 id                                       comment_text  toxic  \\\n",
       "0  0001ea8717f6de06  Thank you for understanding. I think very high...      0   \n",
       "1  000247e83dcc1211                   :Dear god this site is horrible.      0   \n",
       "2  0002f87b16116a7f  \"::: Somebody will invariably try to add Relig...      0   \n",
       "3  0003e1cccfd5a40a  \" \\n\\n It says it right there that it IS a typ...      0   \n",
       "4  00059ace3e3e9a53  \" \\n\\n == Before adding a new product to the l...      0   \n",
       "\n",
       "   severe_toxic  obscene  threat  insult  identity_hate  \n",
       "0             0        0       0       0              0  \n",
       "1             0        0       0       0              0  \n",
       "2             0        0       0       0              0  \n",
       "3             0        0       0       0              0  \n",
       "4             0        0       0       0              0  "
      ]
     },
     "execution_count": 6,
     "metadata": {},
     "output_type": "execute_result"
    }
   ],
   "source": [
    "# Filtering out the samples having actual target labels\n",
    "new_test_df = test_df[(test_df['toxic']!=-1) & (test_df['severe_toxic']!=-1) & (test_df['obscene']!=-1) & \n",
    "             (test_df['threat']!=-1) & (test_df['insult']!=-1) & (test_df['identity_hate']!=-1)]\n",
    "new_test_df.reset_index(drop=True, inplace=True)\n",
    "new_test_df.head()"
   ]
  },
  {
   "cell_type": "code",
   "execution_count": 7,
   "id": "fb37b0d3",
   "metadata": {
    "execution": {
     "iopub.execute_input": "2022-02-03T04:15:12.291064Z",
     "iopub.status.busy": "2022-02-03T04:15:12.290363Z",
     "iopub.status.idle": "2022-02-03T04:15:12.294319Z",
     "shell.execute_reply": "2022-02-03T04:15:12.293772Z",
     "shell.execute_reply.started": "2022-02-03T04:13:39.278739Z"
    },
    "papermill": {
     "duration": 0.027467,
     "end_time": "2022-02-03T04:15:12.294449",
     "exception": false,
     "start_time": "2022-02-03T04:15:12.266982",
     "status": "completed"
    },
    "tags": []
   },
   "outputs": [],
   "source": [
    "# Creating a function to clean the training dataset\n",
    "def clean_text(text):\n",
    "    \"\"\"This function will take text as input and return a cleaned text \n",
    "        by removing html char, punctuations, non-letters, newline and converting it \n",
    "        to lower case.\n",
    "    \"\"\"\n",
    "    # Converting to lower case letters\n",
    "    text = text.lower()\n",
    "    # Removing the contraction of few words\n",
    "    text = re.sub(r\"what's\", \"what is \", text)\n",
    "    text = re.sub(r\"\\'s\", \" \", text)\n",
    "    text = re.sub(r\"\\'ve\", \" have \", text)\n",
    "    text = re.sub(r\"can't\", \"can not \", text)\n",
    "    text = re.sub(r\"n't\", \" not \", text)\n",
    "    text = re.sub(r\"i'm\", \"i am \", text)\n",
    "    text = re.sub(r\"\\'re\", \" are \", text)\n",
    "    text = re.sub(r\"\\'d\", \" would \", text)\n",
    "    text = re.sub(r\"\\'ll\", \" will \", text)\n",
    "    text = re.sub(r\"\\'scuse\", \" excuse \", text)\n",
    "    # Replacing the HTMl characters with \" \"\n",
    "    text = re.sub(\"<.*?>\", \" \", text)\n",
    "    # Removing the punctuations\n",
    "    text = text.translate(str.maketrans(\" \", \" \", string.punctuation))\n",
    "    # Removing non-letters\n",
    "    text = re.sub(\"[^a-zA-Z]\", \" \", text)\n",
    "    # Replacing newline with space\n",
    "    text = re.sub(\"\\n\", \" \", text)\n",
    "    # Split on space and rejoin to remove extra spaces\n",
    "    text = \" \".join(text.split())\n",
    "    \n",
    "    return text"
   ]
  },
  {
   "cell_type": "code",
   "execution_count": 8,
   "id": "d018ff7d",
   "metadata": {
    "execution": {
     "iopub.execute_input": "2022-02-03T04:15:12.328935Z",
     "iopub.status.busy": "2022-02-03T04:15:12.328284Z",
     "iopub.status.idle": "2022-02-03T04:15:12.330756Z",
     "shell.execute_reply": "2022-02-03T04:15:12.331273Z",
     "shell.execute_reply.started": "2022-02-03T04:13:39.279715Z"
    },
    "papermill": {
     "duration": 0.022203,
     "end_time": "2022-02-03T04:15:12.331438",
     "exception": false,
     "start_time": "2022-02-03T04:15:12.309235",
     "status": "completed"
    },
    "tags": []
   },
   "outputs": [],
   "source": [
    "def word_lemmatizer(text):\n",
    "    \"\"\"This function will help lemmatize words in a text.\n",
    "    \"\"\"\n",
    "    \n",
    "    lemmatizer = WordNetLemmatizer()\n",
    "    # Tokenize the sentences to words\n",
    "    text = word_tokenize(text)\n",
    "    # Removing the stop words\n",
    "    text = [lemmatizer.lemmatize(word) for word in text]\n",
    "    # Joining the cleaned list\n",
    "    text = \" \".join(text)\n",
    "    \n",
    "    return text"
   ]
  },
  {
   "cell_type": "code",
   "execution_count": 9,
   "id": "c5b602b1",
   "metadata": {
    "execution": {
     "iopub.execute_input": "2022-02-03T04:15:12.365981Z",
     "iopub.status.busy": "2022-02-03T04:15:12.365391Z",
     "iopub.status.idle": "2022-02-03T04:17:33.701708Z",
     "shell.execute_reply": "2022-02-03T04:17:33.702165Z",
     "shell.execute_reply.started": "2022-02-03T04:13:39.280729Z"
    },
    "papermill": {
     "duration": 141.356395,
     "end_time": "2022-02-03T04:17:33.702339",
     "exception": false,
     "start_time": "2022-02-03T04:15:12.345944",
     "status": "completed"
    },
    "tags": []
   },
   "outputs": [
    {
     "data": {
      "application/vnd.jupyter.widget-view+json": {
       "model_id": "3c10260c9602496784512b9ea50ef6f9",
       "version_major": 2,
       "version_minor": 0
      },
      "text/plain": [
       "Pandas Apply:   0%|          | 0/159571 [00:00<?, ?it/s]"
      ]
     },
     "metadata": {},
     "output_type": "display_data"
    },
    {
     "data": {
      "application/vnd.jupyter.widget-view+json": {
       "model_id": "418d007eb6f746c19f36b7812d555da3",
       "version_major": 2,
       "version_minor": 0
      },
      "text/plain": [
       "Pandas Apply:   0%|          | 0/159571 [00:00<?, ?it/s]"
      ]
     },
     "metadata": {},
     "output_type": "display_data"
    },
    {
     "data": {
      "application/vnd.jupyter.widget-view+json": {
       "model_id": "f8030cc285064a6eaec1706343e6b737",
       "version_major": 2,
       "version_minor": 0
      },
      "text/plain": [
       "Pandas Apply:   0%|          | 0/63978 [00:00<?, ?it/s]"
      ]
     },
     "metadata": {},
     "output_type": "display_data"
    },
    {
     "data": {
      "application/vnd.jupyter.widget-view+json": {
       "model_id": "6230fa91ccd542359506a83ee39fd6cd",
       "version_major": 2,
       "version_minor": 0
      },
      "text/plain": [
       "Pandas Apply:   0%|          | 0/63978 [00:00<?, ?it/s]"
      ]
     },
     "metadata": {},
     "output_type": "display_data"
    }
   ],
   "source": [
    "# Cleaning and preprocessing the train data\n",
    "train_df[\"comment_text\"] = train_df[\"comment_text\"].swifter.apply(clean_text)\n",
    "train_df[\"comment_text\"] = train_df[\"comment_text\"].swifter.apply(word_lemmatizer)\n",
    "\n",
    "# Cleaning and preprocessing the test data\n",
    "new_test_df[\"comment_text\"] = new_test_df[\"comment_text\"].swifter.apply(clean_text)\n",
    "new_test_df[\"comment_text\"] = new_test_df[\"comment_text\"].swifter.apply(word_lemmatizer)"
   ]
  },
  {
   "cell_type": "code",
   "execution_count": 10,
   "id": "3ede8e80",
   "metadata": {
    "execution": {
     "iopub.execute_input": "2022-02-03T04:17:33.738303Z",
     "iopub.status.busy": "2022-02-03T04:17:33.737251Z",
     "iopub.status.idle": "2022-02-03T04:17:33.778521Z",
     "shell.execute_reply": "2022-02-03T04:17:33.779337Z",
     "shell.execute_reply.started": "2022-02-03T04:13:39.281665Z"
    },
    "papermill": {
     "duration": 0.06131,
     "end_time": "2022-02-03T04:17:33.779538",
     "exception": false,
     "start_time": "2022-02-03T04:17:33.718228",
     "status": "completed"
    },
    "tags": []
   },
   "outputs": [
    {
     "name": "stdout",
     "output_type": "stream",
     "text": [
      "(127656, 8) (31915, 8)\n"
     ]
    }
   ],
   "source": [
    "# Performing the train-val split to create training and validation datasets\n",
    "train, validation = train_test_split(train_df, test_size=0.2, random_state=42)\n",
    "# print(X_train.shape, X_val.shape, y_train.shape, y_val.shape)\n",
    "print(train.shape, validation.shape)"
   ]
  },
  {
   "cell_type": "code",
   "execution_count": 11,
   "id": "b3a0a19e",
   "metadata": {
    "execution": {
     "iopub.execute_input": "2022-02-03T04:17:33.815805Z",
     "iopub.status.busy": "2022-02-03T04:17:33.814880Z",
     "iopub.status.idle": "2022-02-03T04:17:33.819225Z",
     "shell.execute_reply": "2022-02-03T04:17:33.819694Z",
     "shell.execute_reply.started": "2022-02-03T04:13:39.292581Z"
    },
    "papermill": {
     "duration": 0.023869,
     "end_time": "2022-02-03T04:17:33.819872",
     "exception": false,
     "start_time": "2022-02-03T04:17:33.796003",
     "status": "completed"
    },
    "tags": []
   },
   "outputs": [],
   "source": [
    "# Seperating our input and target variable columns\n",
    "X_train = train.comment_text\n",
    "X_val = validation.comment_text\n",
    "X_test = new_test_df.comment_text"
   ]
  },
  {
   "cell_type": "code",
   "execution_count": 12,
   "id": "23f11712",
   "metadata": {
    "execution": {
     "iopub.execute_input": "2022-02-03T04:17:33.856535Z",
     "iopub.status.busy": "2022-02-03T04:17:33.855552Z",
     "iopub.status.idle": "2022-02-03T04:17:33.859209Z",
     "shell.execute_reply": "2022-02-03T04:17:33.859643Z",
     "shell.execute_reply.started": "2022-02-03T04:13:39.303608Z"
    },
    "papermill": {
     "duration": 0.023615,
     "end_time": "2022-02-03T04:17:33.859817",
     "exception": false,
     "start_time": "2022-02-03T04:17:33.836202",
     "status": "completed"
    },
    "tags": []
   },
   "outputs": [],
   "source": [
    "# Storing our target labels list in a variable\n",
    "labels = ['toxic', 'severe_toxic', 'obscene', 'threat', 'insult', 'identity_hate']"
   ]
  },
  {
   "cell_type": "code",
   "execution_count": 13,
   "id": "ed2e1b0d",
   "metadata": {
    "execution": {
     "iopub.execute_input": "2022-02-03T04:17:33.896025Z",
     "iopub.status.busy": "2022-02-03T04:17:33.895090Z",
     "iopub.status.idle": "2022-02-03T04:17:50.594677Z",
     "shell.execute_reply": "2022-02-03T04:17:50.595188Z",
     "shell.execute_reply.started": "2022-02-03T04:13:39.305447Z"
    },
    "papermill": {
     "duration": 16.719409,
     "end_time": "2022-02-03T04:17:50.595373",
     "exception": false,
     "start_time": "2022-02-03T04:17:33.875964",
     "status": "completed"
    },
    "tags": []
   },
   "outputs": [],
   "source": [
    "# Creating a unigram TFIDF vectorizer and transforming all our input features\n",
    "word_tfidf = TfidfVectorizer(max_features=5000, ngram_range=(1, 1), sublinear_tf=True, strip_accents=\"unicode\", \n",
    "                             analyzer=\"word\",token_pattern=r\"\\w{1,}\", stop_words=stop_words)\n",
    "\n",
    "word_tfidf.fit(train_df.comment_text)\n",
    "\n",
    "train_word_tfidf = word_tfidf.transform(X_train)\n",
    "val_word_tfidf = word_tfidf.transform(X_val)\n",
    "test_word_tfidf = word_tfidf.transform(X_test)"
   ]
  },
  {
   "cell_type": "code",
   "execution_count": 14,
   "id": "c1d454dd",
   "metadata": {
    "execution": {
     "iopub.execute_input": "2022-02-03T04:17:50.676764Z",
     "iopub.status.busy": "2022-02-03T04:17:50.671604Z",
     "iopub.status.idle": "2022-02-03T04:26:11.886121Z",
     "shell.execute_reply": "2022-02-03T04:26:11.885017Z",
     "shell.execute_reply.started": "2022-02-03T04:13:39.306611Z"
    },
    "papermill": {
     "duration": 501.274834,
     "end_time": "2022-02-03T04:26:11.886518",
     "exception": false,
     "start_time": "2022-02-03T04:17:50.611684",
     "status": "completed"
    },
    "tags": []
   },
   "outputs": [],
   "source": [
    "# Creating a n-gram (2, 6) TFIDF vectorizer and transforming all our input features\n",
    "char_tfidf = TfidfVectorizer(max_features=30000, ngram_range=(2, 6), sublinear_tf=True, strip_accents=\"unicode\", \n",
    "                             analyzer=\"char\", stop_words=stop_words)\n",
    "\n",
    "char_tfidf.fit(train_df.comment_text)\n",
    "\n",
    "train_char_tfidf = char_tfidf.transform(X_train)\n",
    "val_char_tfidf = char_tfidf.transform(X_val)\n",
    "test_char_tfidf = char_tfidf.transform(X_test)"
   ]
  },
  {
   "cell_type": "code",
   "execution_count": 15,
   "id": "c1007b2c",
   "metadata": {
    "execution": {
     "iopub.execute_input": "2022-02-03T04:26:11.936245Z",
     "iopub.status.busy": "2022-02-03T04:26:11.933057Z",
     "iopub.status.idle": "2022-02-03T04:26:17.300725Z",
     "shell.execute_reply": "2022-02-03T04:26:17.300168Z",
     "shell.execute_reply.started": "2022-02-03T04:13:39.307738Z"
    },
    "papermill": {
     "duration": 5.390867,
     "end_time": "2022-02-03T04:26:17.300893",
     "exception": false,
     "start_time": "2022-02-03T04:26:11.910026",
     "status": "completed"
    },
    "tags": []
   },
   "outputs": [],
   "source": [
    "# Concatenating both unigram and n-gram features for our training input\n",
    "train_features = hstack([train_word_tfidf, train_char_tfidf])\n",
    "val_features = hstack([val_word_tfidf, val_char_tfidf])\n",
    "test_features = hstack([test_word_tfidf, test_char_tfidf])"
   ]
  },
  {
   "cell_type": "code",
   "execution_count": 16,
   "id": "279ab690",
   "metadata": {
    "execution": {
     "iopub.execute_input": "2022-02-03T04:26:17.340755Z",
     "iopub.status.busy": "2022-02-03T04:26:17.339815Z",
     "iopub.status.idle": "2022-02-03T04:26:32.319650Z",
     "shell.execute_reply": "2022-02-03T04:26:32.320418Z",
     "shell.execute_reply.started": "2022-02-03T04:13:39.311831Z"
    },
    "papermill": {
     "duration": 15.002527,
     "end_time": "2022-02-03T04:26:32.320678",
     "exception": false,
     "start_time": "2022-02-03T04:26:17.318151",
     "status": "completed"
    },
    "tags": []
   },
   "outputs": [
    {
     "data": {
      "text/plain": [
       "['char_tfidf_vectorizer.pkl']"
      ]
     },
     "execution_count": 16,
     "metadata": {},
     "output_type": "execute_result"
    }
   ],
   "source": [
    "# Saving the tfidf vectors for future use\n",
    "joblib.dump(word_tfidf, \"word_tfidf_vectorizer.pkl\")\n",
    "joblib.dump(char_tfidf, \"char_tfidf_vectorizer.pkl\")"
   ]
  },
  {
   "cell_type": "code",
   "execution_count": 17,
   "id": "bf9a3660",
   "metadata": {
    "execution": {
     "iopub.execute_input": "2022-02-03T04:26:32.443727Z",
     "iopub.status.busy": "2022-02-03T04:26:32.442776Z",
     "iopub.status.idle": "2022-02-03T04:41:32.509889Z",
     "shell.execute_reply": "2022-02-03T04:41:32.510758Z",
     "shell.execute_reply.started": "2022-02-03T04:13:39.324257Z"
    },
    "papermill": {
     "duration": 900.095245,
     "end_time": "2022-02-03T04:41:32.511206",
     "exception": false,
     "start_time": "2022-02-03T04:26:32.415961",
     "status": "completed"
    },
    "tags": []
   },
   "outputs": [
    {
     "name": "stdout",
     "output_type": "stream",
     "text": [
      "... Processing toxic\n",
      "... Processing severe_toxic\n",
      "... Processing obscene\n",
      "... Processing threat\n",
      "... Processing insult\n",
      "... Processing identity_hate\n"
     ]
    }
   ],
   "source": [
    "# Creating a logistic regression Model and treating each target as a binary classification problem\n",
    "lr_model = OneVsRestClassifier(LogisticRegression(solver=\"saga\"))\n",
    "val_results = {\"Accuracy\": {}, \"F1 Score\": {}}\n",
    "test_results = {\"Accuracy\": {}, \"F1 Score\": {}}\n",
    "\n",
    "for label in labels:\n",
    "    print(f\"... Processing {label}\")\n",
    "    # train the model using X & y\n",
    "    lr_model.fit(train_features, train[label])\n",
    "    # Predicting the validation data labels\n",
    "    val_prediction = lr_model.predict(val_features)\n",
    "    # Predicting the test data labels\n",
    "    test_prediction = lr_model.predict(test_features)\n",
    "    # Saving the model based on target label\n",
    "    joblib.dump(lr_model, f\"logistic_regression_{label}.pkl\")\n",
    "    # Checking and model's accuracy and f1-score\n",
    "    val_results[\"Accuracy\"][f\"{label}\"] = accuracy_score(validation[label], val_prediction)\n",
    "    val_results[\"F1 Score\"][f\"{label}\"] = f1_score(validation[label], val_prediction, average = \"weighted\")\n",
    "    test_results[\"Accuracy\"][f\"{label}\"] = accuracy_score(new_test_df[label], test_prediction)\n",
    "    test_results[\"F1 Score\"][f\"{label}\"] = f1_score(new_test_df[label], test_prediction, average = \"weighted\")"
   ]
  },
  {
   "cell_type": "code",
   "execution_count": 18,
   "id": "49572d92",
   "metadata": {
    "execution": {
     "iopub.execute_input": "2022-02-03T04:41:32.555237Z",
     "iopub.status.busy": "2022-02-03T04:41:32.554327Z",
     "iopub.status.idle": "2022-02-03T04:41:32.560706Z",
     "shell.execute_reply": "2022-02-03T04:41:32.561183Z",
     "shell.execute_reply.started": "2022-02-03T04:13:39.338337Z"
    },
    "papermill": {
     "duration": 0.029335,
     "end_time": "2022-02-03T04:41:32.561341",
     "exception": false,
     "start_time": "2022-02-03T04:41:32.532006",
     "status": "completed"
    },
    "tags": []
   },
   "outputs": [
    {
     "name": "stdout",
     "output_type": "stream",
     "text": [
      "Validation Accuracy: 0.9828502793879577\n",
      "Validation F1-Score: 0.9811947440446507\n"
     ]
    }
   ],
   "source": [
    "# Evaluating the model on Validation Data\n",
    "validation_accuracy = sum(val_results[\"Accuracy\"].values())/len(val_results[\"Accuracy\"])\n",
    "print(f\"Validation Accuracy: {validation_accuracy}\")\n",
    "\n",
    "validation_f1_score = sum(val_results[\"F1 Score\"].values())/len(val_results[\"F1 Score\"])\n",
    "print(f\"Validation F1-Score: {validation_f1_score}\")"
   ]
  },
  {
   "cell_type": "code",
   "execution_count": 19,
   "id": "23ed9750",
   "metadata": {
    "execution": {
     "iopub.execute_input": "2022-02-03T04:41:32.603523Z",
     "iopub.status.busy": "2022-02-03T04:41:32.602784Z",
     "iopub.status.idle": "2022-02-03T04:41:32.605346Z",
     "shell.execute_reply": "2022-02-03T04:41:32.605774Z",
     "shell.execute_reply.started": "2022-02-03T04:13:39.349874Z"
    },
    "papermill": {
     "duration": 0.026681,
     "end_time": "2022-02-03T04:41:32.605974",
     "exception": false,
     "start_time": "2022-02-03T04:41:32.579293",
     "status": "completed"
    },
    "tags": []
   },
   "outputs": [
    {
     "name": "stdout",
     "output_type": "stream",
     "text": [
      "Test Accuracy: 0.9752805651942854\n",
      "Test F1-Score: 0.9747181660736461\n"
     ]
    }
   ],
   "source": [
    "# Evaluating the model on Test Data\n",
    "test_accuracy = sum(test_results[\"Accuracy\"].values())/len(test_results[\"Accuracy\"])\n",
    "print(f\"Test Accuracy: {test_accuracy}\")\n",
    "\n",
    "test_f1_score = sum(test_results[\"F1 Score\"].values())/len(test_results[\"F1 Score\"])\n",
    "print(f\"Test F1-Score: {test_f1_score}\")"
   ]
  },
  {
   "cell_type": "code",
   "execution_count": null,
   "id": "1721441f",
   "metadata": {
    "papermill": {
     "duration": 0.019369,
     "end_time": "2022-02-03T04:41:32.644945",
     "exception": false,
     "start_time": "2022-02-03T04:41:32.625576",
     "status": "completed"
    },
    "tags": []
   },
   "outputs": [],
   "source": []
  }
 ],
 "metadata": {
  "kernelspec": {
   "display_name": "Python 3",
   "language": "python",
   "name": "python3"
  },
  "language_info": {
   "codemirror_mode": {
    "name": "ipython",
    "version": 3
   },
   "file_extension": ".py",
   "mimetype": "text/x-python",
   "name": "python",
   "nbconvert_exporter": "python",
   "pygments_lexer": "ipython3",
   "version": "3.7.12"
  },
  "papermill": {
   "default_parameters": {},
   "duration": 1608.617825,
   "end_time": "2022-02-03T04:41:35.087312",
   "environment_variables": {},
   "exception": null,
   "input_path": "__notebook__.ipynb",
   "output_path": "__notebook__.ipynb",
   "parameters": {},
   "start_time": "2022-02-03T04:14:46.469487",
   "version": "2.3.3"
  },
  "widgets": {
   "application/vnd.jupyter.widget-state+json": {
    "state": {
     "04ccf9d0cdab423db03247668d4d3f21": {
      "model_module": "@jupyter-widgets/controls",
      "model_module_version": "1.5.0",
      "model_name": "HTMLModel",
      "state": {
       "_dom_classes": [],
       "_model_module": "@jupyter-widgets/controls",
       "_model_module_version": "1.5.0",
       "_model_name": "HTMLModel",
       "_view_count": null,
       "_view_module": "@jupyter-widgets/controls",
       "_view_module_version": "1.5.0",
       "_view_name": "HTMLView",
       "description": "",
       "description_tooltip": null,
       "layout": "IPY_MODEL_13963f4eb8a44999855933f2c770ee12",
       "placeholder": "​",
       "style": "IPY_MODEL_5ffe506852104bf0898307791319a1cd",
       "value": " 159571/159571 [00:09&lt;00:00, 16557.74it/s]"
      }
     },
     "0dab3bc6990b4ae18dcc53c9b869faad": {
      "model_module": "@jupyter-widgets/controls",
      "model_module_version": "1.5.0",
      "model_name": "FloatProgressModel",
      "state": {
       "_dom_classes": [],
       "_model_module": "@jupyter-widgets/controls",
       "_model_module_version": "1.5.0",
       "_model_name": "FloatProgressModel",
       "_view_count": null,
       "_view_module": "@jupyter-widgets/controls",
       "_view_module_version": "1.5.0",
       "_view_name": "ProgressView",
       "bar_style": "success",
       "description": "",
       "description_tooltip": null,
       "layout": "IPY_MODEL_d79e751bc50c4ac5a1dd22e2e822b3d8",
       "max": 159571.0,
       "min": 0.0,
       "orientation": "horizontal",
       "style": "IPY_MODEL_4e1b52be79c04a71bcd3630f1d9904d6",
       "value": 159571.0
      }
     },
     "10e43590baf643bba2b331254aa4063a": {
      "model_module": "@jupyter-widgets/controls",
      "model_module_version": "1.5.0",
      "model_name": "HTMLModel",
      "state": {
       "_dom_classes": [],
       "_model_module": "@jupyter-widgets/controls",
       "_model_module_version": "1.5.0",
       "_model_name": "HTMLModel",
       "_view_count": null,
       "_view_module": "@jupyter-widgets/controls",
       "_view_module_version": "1.5.0",
       "_view_name": "HTMLView",
       "description": "",
       "description_tooltip": null,
       "layout": "IPY_MODEL_e9672eb535964370b1566f572a801dcd",
       "placeholder": "​",
       "style": "IPY_MODEL_b908ca0edad442109eeb0ece1ba45384",
       "value": " 63978/63978 [00:33&lt;00:00, 1948.79it/s]"
      }
     },
     "13963f4eb8a44999855933f2c770ee12": {
      "model_module": "@jupyter-widgets/base",
      "model_module_version": "1.2.0",
      "model_name": "LayoutModel",
      "state": {
       "_model_module": "@jupyter-widgets/base",
       "_model_module_version": "1.2.0",
       "_model_name": "LayoutModel",
       "_view_count": null,
       "_view_module": "@jupyter-widgets/base",
       "_view_module_version": "1.2.0",
       "_view_name": "LayoutView",
       "align_content": null,
       "align_items": null,
       "align_self": null,
       "border": null,
       "bottom": null,
       "display": null,
       "flex": null,
       "flex_flow": null,
       "grid_area": null,
       "grid_auto_columns": null,
       "grid_auto_flow": null,
       "grid_auto_rows": null,
       "grid_column": null,
       "grid_gap": null,
       "grid_row": null,
       "grid_template_areas": null,
       "grid_template_columns": null,
       "grid_template_rows": null,
       "height": null,
       "justify_content": null,
       "justify_items": null,
       "left": null,
       "margin": null,
       "max_height": null,
       "max_width": null,
       "min_height": null,
       "min_width": null,
       "object_fit": null,
       "object_position": null,
       "order": null,
       "overflow": null,
       "overflow_x": null,
       "overflow_y": null,
       "padding": null,
       "right": null,
       "top": null,
       "visibility": null,
       "width": null
      }
     },
     "1398a584faa64d1098420bc4f616b7e0": {
      "model_module": "@jupyter-widgets/controls",
      "model_module_version": "1.5.0",
      "model_name": "ProgressStyleModel",
      "state": {
       "_model_module": "@jupyter-widgets/controls",
       "_model_module_version": "1.5.0",
       "_model_name": "ProgressStyleModel",
       "_view_count": null,
       "_view_module": "@jupyter-widgets/base",
       "_view_module_version": "1.2.0",
       "_view_name": "StyleView",
       "bar_color": null,
       "description_width": ""
      }
     },
     "165ab35676794badb11facf8e7559966": {
      "model_module": "@jupyter-widgets/base",
      "model_module_version": "1.2.0",
      "model_name": "LayoutModel",
      "state": {
       "_model_module": "@jupyter-widgets/base",
       "_model_module_version": "1.2.0",
       "_model_name": "LayoutModel",
       "_view_count": null,
       "_view_module": "@jupyter-widgets/base",
       "_view_module_version": "1.2.0",
       "_view_name": "LayoutView",
       "align_content": null,
       "align_items": null,
       "align_self": null,
       "border": null,
       "bottom": null,
       "display": null,
       "flex": null,
       "flex_flow": null,
       "grid_area": null,
       "grid_auto_columns": null,
       "grid_auto_flow": null,
       "grid_auto_rows": null,
       "grid_column": null,
       "grid_gap": null,
       "grid_row": null,
       "grid_template_areas": null,
       "grid_template_columns": null,
       "grid_template_rows": null,
       "height": null,
       "justify_content": null,
       "justify_items": null,
       "left": null,
       "margin": null,
       "max_height": null,
       "max_width": null,
       "min_height": null,
       "min_width": null,
       "object_fit": null,
       "object_position": null,
       "order": null,
       "overflow": null,
       "overflow_x": null,
       "overflow_y": null,
       "padding": null,
       "right": null,
       "top": null,
       "visibility": null,
       "width": null
      }
     },
     "177c2406ead249fa8812a89bbd449802": {
      "model_module": "@jupyter-widgets/base",
      "model_module_version": "1.2.0",
      "model_name": "LayoutModel",
      "state": {
       "_model_module": "@jupyter-widgets/base",
       "_model_module_version": "1.2.0",
       "_model_name": "LayoutModel",
       "_view_count": null,
       "_view_module": "@jupyter-widgets/base",
       "_view_module_version": "1.2.0",
       "_view_name": "LayoutView",
       "align_content": null,
       "align_items": null,
       "align_self": null,
       "border": null,
       "bottom": null,
       "display": null,
       "flex": null,
       "flex_flow": null,
       "grid_area": null,
       "grid_auto_columns": null,
       "grid_auto_flow": null,
       "grid_auto_rows": null,
       "grid_column": null,
       "grid_gap": null,
       "grid_row": null,
       "grid_template_areas": null,
       "grid_template_columns": null,
       "grid_template_rows": null,
       "height": null,
       "justify_content": null,
       "justify_items": null,
       "left": null,
       "margin": null,
       "max_height": null,
       "max_width": null,
       "min_height": null,
       "min_width": null,
       "object_fit": null,
       "object_position": null,
       "order": null,
       "overflow": null,
       "overflow_x": null,
       "overflow_y": null,
       "padding": null,
       "right": null,
       "top": null,
       "visibility": null,
       "width": null
      }
     },
     "20d66e6f4e0143fdb43b48bf6662e33f": {
      "model_module": "@jupyter-widgets/base",
      "model_module_version": "1.2.0",
      "model_name": "LayoutModel",
      "state": {
       "_model_module": "@jupyter-widgets/base",
       "_model_module_version": "1.2.0",
       "_model_name": "LayoutModel",
       "_view_count": null,
       "_view_module": "@jupyter-widgets/base",
       "_view_module_version": "1.2.0",
       "_view_name": "LayoutView",
       "align_content": null,
       "align_items": null,
       "align_self": null,
       "border": null,
       "bottom": null,
       "display": null,
       "flex": null,
       "flex_flow": null,
       "grid_area": null,
       "grid_auto_columns": null,
       "grid_auto_flow": null,
       "grid_auto_rows": null,
       "grid_column": null,
       "grid_gap": null,
       "grid_row": null,
       "grid_template_areas": null,
       "grid_template_columns": null,
       "grid_template_rows": null,
       "height": null,
       "justify_content": null,
       "justify_items": null,
       "left": null,
       "margin": null,
       "max_height": null,
       "max_width": null,
       "min_height": null,
       "min_width": null,
       "object_fit": null,
       "object_position": null,
       "order": null,
       "overflow": null,
       "overflow_x": null,
       "overflow_y": null,
       "padding": null,
       "right": null,
       "top": null,
       "visibility": null,
       "width": null
      }
     },
     "2810aa2cbc444dac8ec3a4ba2781f67e": {
      "model_module": "@jupyter-widgets/controls",
      "model_module_version": "1.5.0",
      "model_name": "DescriptionStyleModel",
      "state": {
       "_model_module": "@jupyter-widgets/controls",
       "_model_module_version": "1.5.0",
       "_model_name": "DescriptionStyleModel",
       "_view_count": null,
       "_view_module": "@jupyter-widgets/base",
       "_view_module_version": "1.2.0",
       "_view_name": "StyleView",
       "description_width": ""
      }
     },
     "32a1feaec000429bbabf85a3d35f9b2f": {
      "model_module": "@jupyter-widgets/base",
      "model_module_version": "1.2.0",
      "model_name": "LayoutModel",
      "state": {
       "_model_module": "@jupyter-widgets/base",
       "_model_module_version": "1.2.0",
       "_model_name": "LayoutModel",
       "_view_count": null,
       "_view_module": "@jupyter-widgets/base",
       "_view_module_version": "1.2.0",
       "_view_name": "LayoutView",
       "align_content": null,
       "align_items": null,
       "align_self": null,
       "border": null,
       "bottom": null,
       "display": null,
       "flex": null,
       "flex_flow": null,
       "grid_area": null,
       "grid_auto_columns": null,
       "grid_auto_flow": null,
       "grid_auto_rows": null,
       "grid_column": null,
       "grid_gap": null,
       "grid_row": null,
       "grid_template_areas": null,
       "grid_template_columns": null,
       "grid_template_rows": null,
       "height": null,
       "justify_content": null,
       "justify_items": null,
       "left": null,
       "margin": null,
       "max_height": null,
       "max_width": null,
       "min_height": null,
       "min_width": null,
       "object_fit": null,
       "object_position": null,
       "order": null,
       "overflow": null,
       "overflow_x": null,
       "overflow_y": null,
       "padding": null,
       "right": null,
       "top": null,
       "visibility": null,
       "width": null
      }
     },
     "38a1e0a4203b482ca9b8963b77ed39b9": {
      "model_module": "@jupyter-widgets/base",
      "model_module_version": "1.2.0",
      "model_name": "LayoutModel",
      "state": {
       "_model_module": "@jupyter-widgets/base",
       "_model_module_version": "1.2.0",
       "_model_name": "LayoutModel",
       "_view_count": null,
       "_view_module": "@jupyter-widgets/base",
       "_view_module_version": "1.2.0",
       "_view_name": "LayoutView",
       "align_content": null,
       "align_items": null,
       "align_self": null,
       "border": null,
       "bottom": null,
       "display": null,
       "flex": null,
       "flex_flow": null,
       "grid_area": null,
       "grid_auto_columns": null,
       "grid_auto_flow": null,
       "grid_auto_rows": null,
       "grid_column": null,
       "grid_gap": null,
       "grid_row": null,
       "grid_template_areas": null,
       "grid_template_columns": null,
       "grid_template_rows": null,
       "height": null,
       "justify_content": null,
       "justify_items": null,
       "left": null,
       "margin": null,
       "max_height": null,
       "max_width": null,
       "min_height": null,
       "min_width": null,
       "object_fit": null,
       "object_position": null,
       "order": null,
       "overflow": null,
       "overflow_x": null,
       "overflow_y": null,
       "padding": null,
       "right": null,
       "top": null,
       "visibility": null,
       "width": null
      }
     },
     "3c10260c9602496784512b9ea50ef6f9": {
      "model_module": "@jupyter-widgets/controls",
      "model_module_version": "1.5.0",
      "model_name": "HBoxModel",
      "state": {
       "_dom_classes": [],
       "_model_module": "@jupyter-widgets/controls",
       "_model_module_version": "1.5.0",
       "_model_name": "HBoxModel",
       "_view_count": null,
       "_view_module": "@jupyter-widgets/controls",
       "_view_module_version": "1.5.0",
       "_view_name": "HBoxView",
       "box_style": "",
       "children": [
        "IPY_MODEL_7a22e39ac05e426bb5536169e5634933",
        "IPY_MODEL_89e837caebc74fc880e677e87e10193b",
        "IPY_MODEL_04ccf9d0cdab423db03247668d4d3f21"
       ],
       "layout": "IPY_MODEL_dc6ee3f77e6342f9bc8c098d557518f1"
      }
     },
     "418d007eb6f746c19f36b7812d555da3": {
      "model_module": "@jupyter-widgets/controls",
      "model_module_version": "1.5.0",
      "model_name": "HBoxModel",
      "state": {
       "_dom_classes": [],
       "_model_module": "@jupyter-widgets/controls",
       "_model_module_version": "1.5.0",
       "_model_name": "HBoxModel",
       "_view_count": null,
       "_view_module": "@jupyter-widgets/controls",
       "_view_module_version": "1.5.0",
       "_view_name": "HBoxView",
       "box_style": "",
       "children": [
        "IPY_MODEL_87a8ce88d9a74b49a3ed3c2a09717fc6",
        "IPY_MODEL_0dab3bc6990b4ae18dcc53c9b869faad",
        "IPY_MODEL_7ae62721d1dc41d4b8e21521434a96ed"
       ],
       "layout": "IPY_MODEL_d93d8c3065e74d53bfec4d3b4594bede"
      }
     },
     "43d2d7a68d784382a461d2c94fdc664a": {
      "model_module": "@jupyter-widgets/controls",
      "model_module_version": "1.5.0",
      "model_name": "DescriptionStyleModel",
      "state": {
       "_model_module": "@jupyter-widgets/controls",
       "_model_module_version": "1.5.0",
       "_model_name": "DescriptionStyleModel",
       "_view_count": null,
       "_view_module": "@jupyter-widgets/base",
       "_view_module_version": "1.2.0",
       "_view_name": "StyleView",
       "description_width": ""
      }
     },
     "4e1b52be79c04a71bcd3630f1d9904d6": {
      "model_module": "@jupyter-widgets/controls",
      "model_module_version": "1.5.0",
      "model_name": "ProgressStyleModel",
      "state": {
       "_model_module": "@jupyter-widgets/controls",
       "_model_module_version": "1.5.0",
       "_model_name": "ProgressStyleModel",
       "_view_count": null,
       "_view_module": "@jupyter-widgets/base",
       "_view_module_version": "1.2.0",
       "_view_name": "StyleView",
       "bar_color": null,
       "description_width": ""
      }
     },
     "50064dc0e90f45b9840839acf8c43a91": {
      "model_module": "@jupyter-widgets/controls",
      "model_module_version": "1.5.0",
      "model_name": "HTMLModel",
      "state": {
       "_dom_classes": [],
       "_model_module": "@jupyter-widgets/controls",
       "_model_module_version": "1.5.0",
       "_model_name": "HTMLModel",
       "_view_count": null,
       "_view_module": "@jupyter-widgets/controls",
       "_view_module_version": "1.5.0",
       "_view_name": "HTMLView",
       "description": "",
       "description_tooltip": null,
       "layout": "IPY_MODEL_c93ed64041fb4afeb1b2518d9bf43d49",
       "placeholder": "​",
       "style": "IPY_MODEL_43d2d7a68d784382a461d2c94fdc664a",
       "value": "Pandas Apply: 100%"
      }
     },
     "55e4fea2e09341a7b2c62e9de37725c0": {
      "model_module": "@jupyter-widgets/controls",
      "model_module_version": "1.5.0",
      "model_name": "FloatProgressModel",
      "state": {
       "_dom_classes": [],
       "_model_module": "@jupyter-widgets/controls",
       "_model_module_version": "1.5.0",
       "_model_name": "FloatProgressModel",
       "_view_count": null,
       "_view_module": "@jupyter-widgets/controls",
       "_view_module_version": "1.5.0",
       "_view_name": "ProgressView",
       "bar_style": "success",
       "description": "",
       "description_tooltip": null,
       "layout": "IPY_MODEL_38a1e0a4203b482ca9b8963b77ed39b9",
       "max": 63978.0,
       "min": 0.0,
       "orientation": "horizontal",
       "style": "IPY_MODEL_1398a584faa64d1098420bc4f616b7e0",
       "value": 63978.0
      }
     },
     "5ffe506852104bf0898307791319a1cd": {
      "model_module": "@jupyter-widgets/controls",
      "model_module_version": "1.5.0",
      "model_name": "DescriptionStyleModel",
      "state": {
       "_model_module": "@jupyter-widgets/controls",
       "_model_module_version": "1.5.0",
       "_model_name": "DescriptionStyleModel",
       "_view_count": null,
       "_view_module": "@jupyter-widgets/base",
       "_view_module_version": "1.2.0",
       "_view_name": "StyleView",
       "description_width": ""
      }
     },
     "617428f72b22486eae98a1a2f3f0f562": {
      "model_module": "@jupyter-widgets/controls",
      "model_module_version": "1.5.0",
      "model_name": "HTMLModel",
      "state": {
       "_dom_classes": [],
       "_model_module": "@jupyter-widgets/controls",
       "_model_module_version": "1.5.0",
       "_model_name": "HTMLModel",
       "_view_count": null,
       "_view_module": "@jupyter-widgets/controls",
       "_view_module_version": "1.5.0",
       "_view_name": "HTMLView",
       "description": "",
       "description_tooltip": null,
       "layout": "IPY_MODEL_8d8d9fabfba2442c95d441389e0dbef7",
       "placeholder": "​",
       "style": "IPY_MODEL_6c84af0f237b42f5af366e3042b919a4",
       "value": "Pandas Apply: 100%"
      }
     },
     "6230fa91ccd542359506a83ee39fd6cd": {
      "model_module": "@jupyter-widgets/controls",
      "model_module_version": "1.5.0",
      "model_name": "HBoxModel",
      "state": {
       "_dom_classes": [],
       "_model_module": "@jupyter-widgets/controls",
       "_model_module_version": "1.5.0",
       "_model_name": "HBoxModel",
       "_view_count": null,
       "_view_module": "@jupyter-widgets/controls",
       "_view_module_version": "1.5.0",
       "_view_name": "HBoxView",
       "box_style": "",
       "children": [
        "IPY_MODEL_50064dc0e90f45b9840839acf8c43a91",
        "IPY_MODEL_be986aaefdd84b9c988ad91296d8a1fd",
        "IPY_MODEL_10e43590baf643bba2b331254aa4063a"
       ],
       "layout": "IPY_MODEL_165ab35676794badb11facf8e7559966"
      }
     },
     "660ab0f41b864fbfbd0fc59584f88185": {
      "model_module": "@jupyter-widgets/base",
      "model_module_version": "1.2.0",
      "model_name": "LayoutModel",
      "state": {
       "_model_module": "@jupyter-widgets/base",
       "_model_module_version": "1.2.0",
       "_model_name": "LayoutModel",
       "_view_count": null,
       "_view_module": "@jupyter-widgets/base",
       "_view_module_version": "1.2.0",
       "_view_name": "LayoutView",
       "align_content": null,
       "align_items": null,
       "align_self": null,
       "border": null,
       "bottom": null,
       "display": null,
       "flex": null,
       "flex_flow": null,
       "grid_area": null,
       "grid_auto_columns": null,
       "grid_auto_flow": null,
       "grid_auto_rows": null,
       "grid_column": null,
       "grid_gap": null,
       "grid_row": null,
       "grid_template_areas": null,
       "grid_template_columns": null,
       "grid_template_rows": null,
       "height": null,
       "justify_content": null,
       "justify_items": null,
       "left": null,
       "margin": null,
       "max_height": null,
       "max_width": null,
       "min_height": null,
       "min_width": null,
       "object_fit": null,
       "object_position": null,
       "order": null,
       "overflow": null,
       "overflow_x": null,
       "overflow_y": null,
       "padding": null,
       "right": null,
       "top": null,
       "visibility": null,
       "width": null
      }
     },
     "6c84af0f237b42f5af366e3042b919a4": {
      "model_module": "@jupyter-widgets/controls",
      "model_module_version": "1.5.0",
      "model_name": "DescriptionStyleModel",
      "state": {
       "_model_module": "@jupyter-widgets/controls",
       "_model_module_version": "1.5.0",
       "_model_name": "DescriptionStyleModel",
       "_view_count": null,
       "_view_module": "@jupyter-widgets/base",
       "_view_module_version": "1.2.0",
       "_view_name": "StyleView",
       "description_width": ""
      }
     },
     "6f040522c06245c5ad950a00b99615f0": {
      "model_module": "@jupyter-widgets/controls",
      "model_module_version": "1.5.0",
      "model_name": "ProgressStyleModel",
      "state": {
       "_model_module": "@jupyter-widgets/controls",
       "_model_module_version": "1.5.0",
       "_model_name": "ProgressStyleModel",
       "_view_count": null,
       "_view_module": "@jupyter-widgets/base",
       "_view_module_version": "1.2.0",
       "_view_name": "StyleView",
       "bar_color": null,
       "description_width": ""
      }
     },
     "79ebcac433db47f3a9fa7428587b7804": {
      "model_module": "@jupyter-widgets/controls",
      "model_module_version": "1.5.0",
      "model_name": "HTMLModel",
      "state": {
       "_dom_classes": [],
       "_model_module": "@jupyter-widgets/controls",
       "_model_module_version": "1.5.0",
       "_model_name": "HTMLModel",
       "_view_count": null,
       "_view_module": "@jupyter-widgets/controls",
       "_view_module_version": "1.5.0",
       "_view_name": "HTMLView",
       "description": "",
       "description_tooltip": null,
       "layout": "IPY_MODEL_660ab0f41b864fbfbd0fc59584f88185",
       "placeholder": "​",
       "style": "IPY_MODEL_b8e7bfee89d045398ee61d0b0d482f7a",
       "value": " 63978/63978 [00:03&lt;00:00, 15900.16it/s]"
      }
     },
     "7a22e39ac05e426bb5536169e5634933": {
      "model_module": "@jupyter-widgets/controls",
      "model_module_version": "1.5.0",
      "model_name": "HTMLModel",
      "state": {
       "_dom_classes": [],
       "_model_module": "@jupyter-widgets/controls",
       "_model_module_version": "1.5.0",
       "_model_name": "HTMLModel",
       "_view_count": null,
       "_view_module": "@jupyter-widgets/controls",
       "_view_module_version": "1.5.0",
       "_view_name": "HTMLView",
       "description": "",
       "description_tooltip": null,
       "layout": "IPY_MODEL_32a1feaec000429bbabf85a3d35f9b2f",
       "placeholder": "​",
       "style": "IPY_MODEL_2810aa2cbc444dac8ec3a4ba2781f67e",
       "value": "Pandas Apply: 100%"
      }
     },
     "7ae62721d1dc41d4b8e21521434a96ed": {
      "model_module": "@jupyter-widgets/controls",
      "model_module_version": "1.5.0",
      "model_name": "HTMLModel",
      "state": {
       "_dom_classes": [],
       "_model_module": "@jupyter-widgets/controls",
       "_model_module_version": "1.5.0",
       "_model_name": "HTMLModel",
       "_view_count": null,
       "_view_module": "@jupyter-widgets/controls",
       "_view_module_version": "1.5.0",
       "_view_name": "HTMLView",
       "description": "",
       "description_tooltip": null,
       "layout": "IPY_MODEL_177c2406ead249fa8812a89bbd449802",
       "placeholder": "​",
       "style": "IPY_MODEL_a8b650c9f7a745f1bc78936082ee0bdf",
       "value": " 159571/159571 [01:29&lt;00:00, 1801.27it/s]"
      }
     },
     "87a8ce88d9a74b49a3ed3c2a09717fc6": {
      "model_module": "@jupyter-widgets/controls",
      "model_module_version": "1.5.0",
      "model_name": "HTMLModel",
      "state": {
       "_dom_classes": [],
       "_model_module": "@jupyter-widgets/controls",
       "_model_module_version": "1.5.0",
       "_model_name": "HTMLModel",
       "_view_count": null,
       "_view_module": "@jupyter-widgets/controls",
       "_view_module_version": "1.5.0",
       "_view_name": "HTMLView",
       "description": "",
       "description_tooltip": null,
       "layout": "IPY_MODEL_20d66e6f4e0143fdb43b48bf6662e33f",
       "placeholder": "​",
       "style": "IPY_MODEL_bc095329b9af4671b5473c7fb2d78be6",
       "value": "Pandas Apply: 100%"
      }
     },
     "89c23ff37e2d4c9f94fac6e32bce67c8": {
      "model_module": "@jupyter-widgets/base",
      "model_module_version": "1.2.0",
      "model_name": "LayoutModel",
      "state": {
       "_model_module": "@jupyter-widgets/base",
       "_model_module_version": "1.2.0",
       "_model_name": "LayoutModel",
       "_view_count": null,
       "_view_module": "@jupyter-widgets/base",
       "_view_module_version": "1.2.0",
       "_view_name": "LayoutView",
       "align_content": null,
       "align_items": null,
       "align_self": null,
       "border": null,
       "bottom": null,
       "display": null,
       "flex": null,
       "flex_flow": null,
       "grid_area": null,
       "grid_auto_columns": null,
       "grid_auto_flow": null,
       "grid_auto_rows": null,
       "grid_column": null,
       "grid_gap": null,
       "grid_row": null,
       "grid_template_areas": null,
       "grid_template_columns": null,
       "grid_template_rows": null,
       "height": null,
       "justify_content": null,
       "justify_items": null,
       "left": null,
       "margin": null,
       "max_height": null,
       "max_width": null,
       "min_height": null,
       "min_width": null,
       "object_fit": null,
       "object_position": null,
       "order": null,
       "overflow": null,
       "overflow_x": null,
       "overflow_y": null,
       "padding": null,
       "right": null,
       "top": null,
       "visibility": null,
       "width": null
      }
     },
     "89e837caebc74fc880e677e87e10193b": {
      "model_module": "@jupyter-widgets/controls",
      "model_module_version": "1.5.0",
      "model_name": "FloatProgressModel",
      "state": {
       "_dom_classes": [],
       "_model_module": "@jupyter-widgets/controls",
       "_model_module_version": "1.5.0",
       "_model_name": "FloatProgressModel",
       "_view_count": null,
       "_view_module": "@jupyter-widgets/controls",
       "_view_module_version": "1.5.0",
       "_view_name": "ProgressView",
       "bar_style": "success",
       "description": "",
       "description_tooltip": null,
       "layout": "IPY_MODEL_f817276654284f98bac779534ad38d57",
       "max": 159571.0,
       "min": 0.0,
       "orientation": "horizontal",
       "style": "IPY_MODEL_9f039325db334bbf845001cdef5cd4dd",
       "value": 159571.0
      }
     },
     "8d8d9fabfba2442c95d441389e0dbef7": {
      "model_module": "@jupyter-widgets/base",
      "model_module_version": "1.2.0",
      "model_name": "LayoutModel",
      "state": {
       "_model_module": "@jupyter-widgets/base",
       "_model_module_version": "1.2.0",
       "_model_name": "LayoutModel",
       "_view_count": null,
       "_view_module": "@jupyter-widgets/base",
       "_view_module_version": "1.2.0",
       "_view_name": "LayoutView",
       "align_content": null,
       "align_items": null,
       "align_self": null,
       "border": null,
       "bottom": null,
       "display": null,
       "flex": null,
       "flex_flow": null,
       "grid_area": null,
       "grid_auto_columns": null,
       "grid_auto_flow": null,
       "grid_auto_rows": null,
       "grid_column": null,
       "grid_gap": null,
       "grid_row": null,
       "grid_template_areas": null,
       "grid_template_columns": null,
       "grid_template_rows": null,
       "height": null,
       "justify_content": null,
       "justify_items": null,
       "left": null,
       "margin": null,
       "max_height": null,
       "max_width": null,
       "min_height": null,
       "min_width": null,
       "object_fit": null,
       "object_position": null,
       "order": null,
       "overflow": null,
       "overflow_x": null,
       "overflow_y": null,
       "padding": null,
       "right": null,
       "top": null,
       "visibility": null,
       "width": null
      }
     },
     "9f039325db334bbf845001cdef5cd4dd": {
      "model_module": "@jupyter-widgets/controls",
      "model_module_version": "1.5.0",
      "model_name": "ProgressStyleModel",
      "state": {
       "_model_module": "@jupyter-widgets/controls",
       "_model_module_version": "1.5.0",
       "_model_name": "ProgressStyleModel",
       "_view_count": null,
       "_view_module": "@jupyter-widgets/base",
       "_view_module_version": "1.2.0",
       "_view_name": "StyleView",
       "bar_color": null,
       "description_width": ""
      }
     },
     "a01db1a69a0f495db032c67e591fcdb0": {
      "model_module": "@jupyter-widgets/base",
      "model_module_version": "1.2.0",
      "model_name": "LayoutModel",
      "state": {
       "_model_module": "@jupyter-widgets/base",
       "_model_module_version": "1.2.0",
       "_model_name": "LayoutModel",
       "_view_count": null,
       "_view_module": "@jupyter-widgets/base",
       "_view_module_version": "1.2.0",
       "_view_name": "LayoutView",
       "align_content": null,
       "align_items": null,
       "align_self": null,
       "border": null,
       "bottom": null,
       "display": null,
       "flex": null,
       "flex_flow": null,
       "grid_area": null,
       "grid_auto_columns": null,
       "grid_auto_flow": null,
       "grid_auto_rows": null,
       "grid_column": null,
       "grid_gap": null,
       "grid_row": null,
       "grid_template_areas": null,
       "grid_template_columns": null,
       "grid_template_rows": null,
       "height": null,
       "justify_content": null,
       "justify_items": null,
       "left": null,
       "margin": null,
       "max_height": null,
       "max_width": null,
       "min_height": null,
       "min_width": null,
       "object_fit": null,
       "object_position": null,
       "order": null,
       "overflow": null,
       "overflow_x": null,
       "overflow_y": null,
       "padding": null,
       "right": null,
       "top": null,
       "visibility": null,
       "width": null
      }
     },
     "a8b650c9f7a745f1bc78936082ee0bdf": {
      "model_module": "@jupyter-widgets/controls",
      "model_module_version": "1.5.0",
      "model_name": "DescriptionStyleModel",
      "state": {
       "_model_module": "@jupyter-widgets/controls",
       "_model_module_version": "1.5.0",
       "_model_name": "DescriptionStyleModel",
       "_view_count": null,
       "_view_module": "@jupyter-widgets/base",
       "_view_module_version": "1.2.0",
       "_view_name": "StyleView",
       "description_width": ""
      }
     },
     "b8e7bfee89d045398ee61d0b0d482f7a": {
      "model_module": "@jupyter-widgets/controls",
      "model_module_version": "1.5.0",
      "model_name": "DescriptionStyleModel",
      "state": {
       "_model_module": "@jupyter-widgets/controls",
       "_model_module_version": "1.5.0",
       "_model_name": "DescriptionStyleModel",
       "_view_count": null,
       "_view_module": "@jupyter-widgets/base",
       "_view_module_version": "1.2.0",
       "_view_name": "StyleView",
       "description_width": ""
      }
     },
     "b908ca0edad442109eeb0ece1ba45384": {
      "model_module": "@jupyter-widgets/controls",
      "model_module_version": "1.5.0",
      "model_name": "DescriptionStyleModel",
      "state": {
       "_model_module": "@jupyter-widgets/controls",
       "_model_module_version": "1.5.0",
       "_model_name": "DescriptionStyleModel",
       "_view_count": null,
       "_view_module": "@jupyter-widgets/base",
       "_view_module_version": "1.2.0",
       "_view_name": "StyleView",
       "description_width": ""
      }
     },
     "bc095329b9af4671b5473c7fb2d78be6": {
      "model_module": "@jupyter-widgets/controls",
      "model_module_version": "1.5.0",
      "model_name": "DescriptionStyleModel",
      "state": {
       "_model_module": "@jupyter-widgets/controls",
       "_model_module_version": "1.5.0",
       "_model_name": "DescriptionStyleModel",
       "_view_count": null,
       "_view_module": "@jupyter-widgets/base",
       "_view_module_version": "1.2.0",
       "_view_name": "StyleView",
       "description_width": ""
      }
     },
     "be986aaefdd84b9c988ad91296d8a1fd": {
      "model_module": "@jupyter-widgets/controls",
      "model_module_version": "1.5.0",
      "model_name": "FloatProgressModel",
      "state": {
       "_dom_classes": [],
       "_model_module": "@jupyter-widgets/controls",
       "_model_module_version": "1.5.0",
       "_model_name": "FloatProgressModel",
       "_view_count": null,
       "_view_module": "@jupyter-widgets/controls",
       "_view_module_version": "1.5.0",
       "_view_name": "ProgressView",
       "bar_style": "success",
       "description": "",
       "description_tooltip": null,
       "layout": "IPY_MODEL_a01db1a69a0f495db032c67e591fcdb0",
       "max": 63978.0,
       "min": 0.0,
       "orientation": "horizontal",
       "style": "IPY_MODEL_6f040522c06245c5ad950a00b99615f0",
       "value": 63978.0
      }
     },
     "c93ed64041fb4afeb1b2518d9bf43d49": {
      "model_module": "@jupyter-widgets/base",
      "model_module_version": "1.2.0",
      "model_name": "LayoutModel",
      "state": {
       "_model_module": "@jupyter-widgets/base",
       "_model_module_version": "1.2.0",
       "_model_name": "LayoutModel",
       "_view_count": null,
       "_view_module": "@jupyter-widgets/base",
       "_view_module_version": "1.2.0",
       "_view_name": "LayoutView",
       "align_content": null,
       "align_items": null,
       "align_self": null,
       "border": null,
       "bottom": null,
       "display": null,
       "flex": null,
       "flex_flow": null,
       "grid_area": null,
       "grid_auto_columns": null,
       "grid_auto_flow": null,
       "grid_auto_rows": null,
       "grid_column": null,
       "grid_gap": null,
       "grid_row": null,
       "grid_template_areas": null,
       "grid_template_columns": null,
       "grid_template_rows": null,
       "height": null,
       "justify_content": null,
       "justify_items": null,
       "left": null,
       "margin": null,
       "max_height": null,
       "max_width": null,
       "min_height": null,
       "min_width": null,
       "object_fit": null,
       "object_position": null,
       "order": null,
       "overflow": null,
       "overflow_x": null,
       "overflow_y": null,
       "padding": null,
       "right": null,
       "top": null,
       "visibility": null,
       "width": null
      }
     },
     "d79e751bc50c4ac5a1dd22e2e822b3d8": {
      "model_module": "@jupyter-widgets/base",
      "model_module_version": "1.2.0",
      "model_name": "LayoutModel",
      "state": {
       "_model_module": "@jupyter-widgets/base",
       "_model_module_version": "1.2.0",
       "_model_name": "LayoutModel",
       "_view_count": null,
       "_view_module": "@jupyter-widgets/base",
       "_view_module_version": "1.2.0",
       "_view_name": "LayoutView",
       "align_content": null,
       "align_items": null,
       "align_self": null,
       "border": null,
       "bottom": null,
       "display": null,
       "flex": null,
       "flex_flow": null,
       "grid_area": null,
       "grid_auto_columns": null,
       "grid_auto_flow": null,
       "grid_auto_rows": null,
       "grid_column": null,
       "grid_gap": null,
       "grid_row": null,
       "grid_template_areas": null,
       "grid_template_columns": null,
       "grid_template_rows": null,
       "height": null,
       "justify_content": null,
       "justify_items": null,
       "left": null,
       "margin": null,
       "max_height": null,
       "max_width": null,
       "min_height": null,
       "min_width": null,
       "object_fit": null,
       "object_position": null,
       "order": null,
       "overflow": null,
       "overflow_x": null,
       "overflow_y": null,
       "padding": null,
       "right": null,
       "top": null,
       "visibility": null,
       "width": null
      }
     },
     "d93d8c3065e74d53bfec4d3b4594bede": {
      "model_module": "@jupyter-widgets/base",
      "model_module_version": "1.2.0",
      "model_name": "LayoutModel",
      "state": {
       "_model_module": "@jupyter-widgets/base",
       "_model_module_version": "1.2.0",
       "_model_name": "LayoutModel",
       "_view_count": null,
       "_view_module": "@jupyter-widgets/base",
       "_view_module_version": "1.2.0",
       "_view_name": "LayoutView",
       "align_content": null,
       "align_items": null,
       "align_self": null,
       "border": null,
       "bottom": null,
       "display": null,
       "flex": null,
       "flex_flow": null,
       "grid_area": null,
       "grid_auto_columns": null,
       "grid_auto_flow": null,
       "grid_auto_rows": null,
       "grid_column": null,
       "grid_gap": null,
       "grid_row": null,
       "grid_template_areas": null,
       "grid_template_columns": null,
       "grid_template_rows": null,
       "height": null,
       "justify_content": null,
       "justify_items": null,
       "left": null,
       "margin": null,
       "max_height": null,
       "max_width": null,
       "min_height": null,
       "min_width": null,
       "object_fit": null,
       "object_position": null,
       "order": null,
       "overflow": null,
       "overflow_x": null,
       "overflow_y": null,
       "padding": null,
       "right": null,
       "top": null,
       "visibility": null,
       "width": null
      }
     },
     "dc6ee3f77e6342f9bc8c098d557518f1": {
      "model_module": "@jupyter-widgets/base",
      "model_module_version": "1.2.0",
      "model_name": "LayoutModel",
      "state": {
       "_model_module": "@jupyter-widgets/base",
       "_model_module_version": "1.2.0",
       "_model_name": "LayoutModel",
       "_view_count": null,
       "_view_module": "@jupyter-widgets/base",
       "_view_module_version": "1.2.0",
       "_view_name": "LayoutView",
       "align_content": null,
       "align_items": null,
       "align_self": null,
       "border": null,
       "bottom": null,
       "display": null,
       "flex": null,
       "flex_flow": null,
       "grid_area": null,
       "grid_auto_columns": null,
       "grid_auto_flow": null,
       "grid_auto_rows": null,
       "grid_column": null,
       "grid_gap": null,
       "grid_row": null,
       "grid_template_areas": null,
       "grid_template_columns": null,
       "grid_template_rows": null,
       "height": null,
       "justify_content": null,
       "justify_items": null,
       "left": null,
       "margin": null,
       "max_height": null,
       "max_width": null,
       "min_height": null,
       "min_width": null,
       "object_fit": null,
       "object_position": null,
       "order": null,
       "overflow": null,
       "overflow_x": null,
       "overflow_y": null,
       "padding": null,
       "right": null,
       "top": null,
       "visibility": null,
       "width": null
      }
     },
     "e9672eb535964370b1566f572a801dcd": {
      "model_module": "@jupyter-widgets/base",
      "model_module_version": "1.2.0",
      "model_name": "LayoutModel",
      "state": {
       "_model_module": "@jupyter-widgets/base",
       "_model_module_version": "1.2.0",
       "_model_name": "LayoutModel",
       "_view_count": null,
       "_view_module": "@jupyter-widgets/base",
       "_view_module_version": "1.2.0",
       "_view_name": "LayoutView",
       "align_content": null,
       "align_items": null,
       "align_self": null,
       "border": null,
       "bottom": null,
       "display": null,
       "flex": null,
       "flex_flow": null,
       "grid_area": null,
       "grid_auto_columns": null,
       "grid_auto_flow": null,
       "grid_auto_rows": null,
       "grid_column": null,
       "grid_gap": null,
       "grid_row": null,
       "grid_template_areas": null,
       "grid_template_columns": null,
       "grid_template_rows": null,
       "height": null,
       "justify_content": null,
       "justify_items": null,
       "left": null,
       "margin": null,
       "max_height": null,
       "max_width": null,
       "min_height": null,
       "min_width": null,
       "object_fit": null,
       "object_position": null,
       "order": null,
       "overflow": null,
       "overflow_x": null,
       "overflow_y": null,
       "padding": null,
       "right": null,
       "top": null,
       "visibility": null,
       "width": null
      }
     },
     "f8030cc285064a6eaec1706343e6b737": {
      "model_module": "@jupyter-widgets/controls",
      "model_module_version": "1.5.0",
      "model_name": "HBoxModel",
      "state": {
       "_dom_classes": [],
       "_model_module": "@jupyter-widgets/controls",
       "_model_module_version": "1.5.0",
       "_model_name": "HBoxModel",
       "_view_count": null,
       "_view_module": "@jupyter-widgets/controls",
       "_view_module_version": "1.5.0",
       "_view_name": "HBoxView",
       "box_style": "",
       "children": [
        "IPY_MODEL_617428f72b22486eae98a1a2f3f0f562",
        "IPY_MODEL_55e4fea2e09341a7b2c62e9de37725c0",
        "IPY_MODEL_79ebcac433db47f3a9fa7428587b7804"
       ],
       "layout": "IPY_MODEL_89c23ff37e2d4c9f94fac6e32bce67c8"
      }
     },
     "f817276654284f98bac779534ad38d57": {
      "model_module": "@jupyter-widgets/base",
      "model_module_version": "1.2.0",
      "model_name": "LayoutModel",
      "state": {
       "_model_module": "@jupyter-widgets/base",
       "_model_module_version": "1.2.0",
       "_model_name": "LayoutModel",
       "_view_count": null,
       "_view_module": "@jupyter-widgets/base",
       "_view_module_version": "1.2.0",
       "_view_name": "LayoutView",
       "align_content": null,
       "align_items": null,
       "align_self": null,
       "border": null,
       "bottom": null,
       "display": null,
       "flex": null,
       "flex_flow": null,
       "grid_area": null,
       "grid_auto_columns": null,
       "grid_auto_flow": null,
       "grid_auto_rows": null,
       "grid_column": null,
       "grid_gap": null,
       "grid_row": null,
       "grid_template_areas": null,
       "grid_template_columns": null,
       "grid_template_rows": null,
       "height": null,
       "justify_content": null,
       "justify_items": null,
       "left": null,
       "margin": null,
       "max_height": null,
       "max_width": null,
       "min_height": null,
       "min_width": null,
       "object_fit": null,
       "object_position": null,
       "order": null,
       "overflow": null,
       "overflow_x": null,
       "overflow_y": null,
       "padding": null,
       "right": null,
       "top": null,
       "visibility": null,
       "width": null
      }
     }
    },
    "version_major": 2,
    "version_minor": 0
   }
  }
 },
 "nbformat": 4,
 "nbformat_minor": 5
}
